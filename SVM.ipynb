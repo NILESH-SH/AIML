{
  "nbformat": 4,
  "nbformat_minor": 0,
  "metadata": {
    "colab": {
      "provenance": [],
      "authorship_tag": "ABX9TyOMWH/0c2jyv+4ZwaCfmhBn",
      "include_colab_link": true
    },
    "kernelspec": {
      "name": "python3",
      "display_name": "Python 3"
    },
    "language_info": {
      "name": "python"
    }
  },
  "cells": [
    {
      "cell_type": "markdown",
      "metadata": {
        "id": "view-in-github",
        "colab_type": "text"
      },
      "source": [
        "<a href=\"https://colab.research.google.com/github/NILESH-SH/AIML/blob/main/SVM.ipynb\" target=\"_parent\"><img src=\"https://colab.research.google.com/assets/colab-badge.svg\" alt=\"Open In Colab\"/></a>"
      ]
    },
    {
      "cell_type": "code",
      "execution_count": 3,
      "metadata": {
        "colab": {
          "base_uri": "https://localhost:8080/"
        },
        "id": "PCvzk91RJVqF",
        "outputId": "f8a46457-314b-44e8-8e4e-9943760ef2f0"
      },
      "outputs": [
        {
          "output_type": "stream",
          "name": "stdout",
          "text": [
            "Accuracy: 1.0\n",
            "\n",
            "Support Vectors:\n",
            "[[2. 3.]\n",
            " [3. 1.]\n",
            " [4. 3.]]\n",
            "\n",
            "Support Vector Indices:\n",
            "[1 2 3]\n",
            "\n",
            "Number of Support Vectors for each class:\n",
            "[2 1]\n",
            "\n",
            "Intercept:\n",
            "[-4.50112]\n",
            "\n",
            "Coefficients of the support vector in the decision function:\n"
          ]
        },
        {
          "output_type": "execute_result",
          "data": {
            "text/plain": [
              "array([[1.     , 0.50048]])"
            ]
          },
          "metadata": {},
          "execution_count": 3
        }
      ],
      "source": [
        "\n",
        "import numpy as np\n",
        "from sklearn.svm import SVC\n",
        "from sklearn.metrics import accuracy_score\n",
        "X = np.array([[1, 2], [2, 3], [3, 1], [4, 3], [5, 3], [6, 2]])\n",
        "y = np.array([0, 0, 0, 1, 1, 1])\n",
        "\n",
        "svm_classifier = SVC(kernel='linear')\n",
        "\n",
        "svm_classifier.fit(X, y)\n",
        "X_test = np.array([[2, 2], [4, 2], [5, 4]])\n",
        "y_test = np.array([0, 1, 1])\n",
        "\n",
        "y_pred = svm_classifier.predict(X_test)\n",
        "accuracy = accuracy_score(y_test, y_pred)\n",
        "print(\"Accuracy:\", accuracy)\n",
        "\n",
        "print(\"\\nSupport Vectors:\")\n",
        "print(svm_classifier.support_vectors_)\n",
        "\n",
        "print(\"\\nSupport Vector Indices:\")\n",
        "print(svm_classifier.support_)\n",
        "\n",
        "print(\"\\nNumber of Support Vectors for each class:\")\n",
        "print(svm_classifier.n_support_)\n",
        "\n",
        "print(\"\\nIntercept:\")\n",
        "print(svm_classifier.intercept_)\n",
        "\n",
        "print(\"\\nCoefficients of the support vector in the decision function:\")\n",
        "svm_classifier.coef_"
      ]
    }
  ]
}